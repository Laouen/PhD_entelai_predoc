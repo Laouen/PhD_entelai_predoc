{
 "cells": [
  {
   "cell_type": "code",
   "execution_count": 1,
   "source": [
    "import pandas as pd\n",
    "import numpy as np"
   ],
   "outputs": [],
   "metadata": {}
  },
  {
   "cell_type": "code",
   "execution_count": 2,
   "source": [
    " def export_predictions(schema, set):\n",
    "    df = pd.DataFrame({\n",
    "        'predicted_condition': np.load(f'../{schema}/execution_state/predict_{set}/output/y_pred.npy'),\n",
    "        'condition': np.load(f'../{schema}/execution_state/predict_{set}/output/y_true.npy')\n",
    "    })\n",
    "    classes = np.load(f'../{schema}/execution_state/data_preprocess/output/classes.npy')\n",
    "    class_labels = np.load(f'../{schema}/execution_state/data_preprocess/output/class_labels.npy', allow_pickle=True)\n",
    "    class_labels = {c: l for c,l in zip(classes, class_labels)}\n",
    "    for col in ['predicted_condition', 'condition']:\n",
    "        df.loc[:, col] = df[col].apply(lambda x: class_labels[x])\n",
    "\n",
    "    df.columns = [f'{schema}__{c}' for c in df.columns]\n",
    "    return df"
   ],
   "outputs": [],
   "metadata": {}
  },
  {
   "cell_type": "code",
   "execution_count": 3,
   "metadata": {},
   "outputs": [],
   "source": [
    "schemas = [\n",
    "    'Migrañas_vs_otras',\n",
    "    'Migraña_sin_aura_vs_otras',\n",
    "    # 'Cefalea_secundaria_vs_resto', Esta no porque no se pudo computar por el desbalance\n",
    "    'Migraña_vs_CTA',\n",
    "    'Migraña_sin_aura_vs_cefalea_tensional',\n",
    "    'MSA_vs_cefalea_tensional_vs_CTA'\n",
    "]\n",
    "for set in ['test', 'train']:\n",
    "    df = pd.concat([\n",
    "        export_predictions(schema, set)\n",
    "        for schema in schemas\n",
    "    ], axis=1)\n",
    "    df.to_csv(f'./predictions_{set}.csv', sep=',', index=False)"
   ]
  }
 ],
 "metadata": {
  "orig_nbformat": 4,
  "language_info": {
   "name": "python",
   "version": "3.8.8",
   "mimetype": "text/x-python",
   "codemirror_mode": {
    "name": "ipython",
    "version": 3
   },
   "pygments_lexer": "ipython3",
   "nbconvert_exporter": "python",
   "file_extension": ".py"
  },
  "kernelspec": {
   "name": "python3",
   "display_name": "Python 3.8.8 64-bit ('master_env': conda)"
  },
  "interpreter": {
   "hash": "e28ae7397d37b4ac8ea73837814be429a0c732edc03a55f78a20dc9c659e5cbb"
  }
 },
 "nbformat": 4,
 "nbformat_minor": 2
}